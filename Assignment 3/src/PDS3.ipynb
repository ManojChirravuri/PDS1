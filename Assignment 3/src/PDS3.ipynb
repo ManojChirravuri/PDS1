{
  "cells": [
    {
      "cell_type": "code",
      "execution_count": null,
      "metadata": {
        "colab": {
          "base_uri": "https://localhost:8080/"
        },
        "id": "XjhWFEwM3Z8A",
        "outputId": "f5dc7fe5-d4d1-42c1-c376-911150c301ca"
      },
      "outputs": [
        {
          "name": "stdout",
          "output_type": "stream",
          "text": [
            "{'success': True, 'terms': 'https://fxratesapi.com/legal/terms-conditions', 'privacy': 'https://fxratesapi.com/legal/privacy-policy', 'timestamp': 1713325440, 'date': '2024-04-17T03:44:00.000Z', 'base': 'USD', 'rates': {'ADA': 2.1798806194, 'AED': 3.6712204041, 'AFN': 72.2654921839, 'ALL': 95.1918878881, 'AMD': 396.0718420392, 'ANG': 1.7873202063, 'AOA': 834.3294767945, 'ARB': 0.8670167617, 'ARS': 869.0191574539, 'AUD': 1.5581502548, 'AWG': 1.79, 'AZN': 1.7, 'BAM': 1.8399803059, 'BBD': 2, 'BDT': 110.1527585609, 'BGN': 1.8355802928, 'BHD': 0.376, 'BIF': 2866.6868406586, 'BMD': 1, 'BNB': 0.0018321752, 'BND': 1.3627501782, 'BOB': 6.9071313108, 'BRL': 5.2520409953, 'BSD': 1, 'BTC': 1.56018e-05, 'BTN': 83.4940732299, 'BWP': 13.8732925759, 'BYN': 3.2699953689, 'BYR': 32699.939838949, 'BZD': 2, 'CAD': 1.3815802689, 'CDF': 2769.0844588941, 'CHF': 0.9122401287, 'CLF': 0.0259800045, 'CLP': 981.7505212888, 'CNY': 7.2386210408, 'COP': 3920.6557891504, 'CRC': 501.4318938681, 'CUC': 1, 'CUP': 24, 'CVE': 103.7392243012, 'CZK': 23.6689227897, 'DAI': 1.0043346843, 'DJF': 177.721, 'DKK': 7.0176411961, 'DOP': 58.9737979118, 'DOT': 0.1491057258, 'DZD': 135.4143620518, 'EGP': 48.5496074951, 'ERN': 15, 'ETB': 56.906250911, 'ETH': 0.0003227618, 'EUR': 0.9405401223, 'FJD': 2.2761303254, 'FKP': 0.8043413583, 'GBP': 0.8043001463, 'GEL': 2.6680404938, 'GGP': 0.8043414139, 'GHS': 13.4530414813, 'GIP': 0.8043410852, 'GMD': 59.5781475101, 'GNF': 8748.6638064271, 'GTQ': 7.7692212027, 'GYD': 209.1103976424, 'HKD': 7.827121103, 'HNL': 24.6922343554, 'HRK': 6.8088308362, 'HTG': 134.5883443573, 'HUF': 371.2606629859, 'IDR': 16213.899235307, 'ILS': 3.7588006465, 'IMP': 0.8043415702, 'INR': 83.5897847958, 'IQD': 1307.019402819, 'IRR': 42069.804341846, 'ISK': 142.0048264465, 'JEP': 0.8043411418, 'JMD': 155.4399315171, 'JOD': 0.71, 'JPY': 154.6308044127, 'KES': 131.9914026373, 'KGS': 89.2006165061, 'KHR': 4033.4679195265, 'KMF': 463.2152180701, 'KPW': 899.9866162499, 'KRW': 1383.2513504719, 'KWD': 0.3069600339, 'KYD': 0.83333, 'KZT': 447.817598751, 'LAK': 21282.707181348, 'LBP': 89606.792627789, 'LKR': 299.9509895835, 'LRD': 193.2366277137, 'LSL': 1138.7588424419, 'LTC': 0.0125308432, 'LTL': 3.2482202604, 'LVL': 0.6611585997, 'LYD': 4.8450009278, 'MAD': 10.1546718273, 'MDL': 17.7816524257, 'MGA': 4362.7499796153, 'MKD': 57.8685171774, 'MMK': 2096.0262646065, 'MNT': 3396.7650421001, 'MOP': 8.0584915947, 'MRO': 356.999828, 'MUR': 46.6676179517, 'MVR': 15.4454621484, 'MWK': 1734.1615661539, 'MXN': 16.998982876, 'MYR': 4.793820958, 'MZN': 63.7467019977, 'NAD': 18.973953274, 'NGN': 1139.0644054305, 'NIO': 36.8133101477, 'NOK': 10.9689513458, 'NPR': 133.7277238918, 'NZD': 1.6932901917, 'OMR': 0.3842800425, 'OP': 0.4510642218, 'PAB': 0.9990701637, 'PEN': 3.7571705762, 'PGK': 3.7622306131, 'PHP': 57.1514807381, 'PKR': 278.2982814242, 'PLN': 4.1055205343, 'PYG': 7434.5344181973, 'QAR': 3.6388004831, 'RON': 4.6796908601, 'RSD': 109.9203034769, 'RUB': 94.1036516847, 'RWF': 1289.4050690252, 'SAR': 3.7427405082, 'SBD': 8.3455037217, 'SCR': 14.4424216627, 'SDG': 601.5, 'SEK': 10.9424811841, 'SGD': 1.3633002631, 'SHP': 0.8043000937, 'SLL': 22549.728952844, 'SOL': 0.0072830591, 'SOS': 571.5068020526, 'SRD': 34.560655593, 'STD': 23118.92305886, 'SVC': 8.75, 'SYP': 13001.87397998, 'SZL': 19.0134427284, 'THB': 36.7452237163, 'TJS': 10.921651111, 'TMT': 3.5, 'TND': 3.1605403713, 'TOP': 2.371600376, 'TRY': 32.5075053165, 'TTD': 6.799530838, 'TWD': 32.494556399, 'TZS': 2588.5260803187, 'UAH': 39.7160068873, 'UGX': 3828.9651623012, 'USD': 1, 'UYU': 38.9516776633, 'UZS': 12666.996065752, 'VEF': 3624363.978764, 'VND': 25265.948012213, 'VUV': 122.3366149152, 'WST': 2.7866561237, 'XAF': 617.0015119852, 'XAG': 0.0355097573, 'XAU': 0.0004198886, 'XCD': 2.7, 'XDR': 0.7618000957, 'XOF': 617.0014544741, 'XPD': 0.000981191, 'XPF': 112.1377814765, 'XPT': 0.0010480062, 'XRP': 2.003088025, 'YER': 249.8733450643, 'ZAR': 19.0181924033, 'ZMK': 9001.2, 'ZMW': 25.1864834771, 'ZWL': 361.9}}\n"
          ]
        }
      ],
      "source": [
        "import requests\n",
        "\n",
        "url = \"https://exchangeratespro.p.rapidapi.com/latest\"\n",
        "\n",
        "querystring = {\"base\":\"USD\"}\n",
        "\n",
        "headers = {\n",
        "\t\"X-RapidAPI-Key\": \"4b808134d4msh93ba78a1408db9bp16d163jsnd3939bab5190\",\n",
        "\t\"X-RapidAPI-Host\": \"exchangeratespro.p.rapidapi.com\"\n",
        "}\n",
        "\n",
        "response = requests.get(url, headers=headers, params=querystring)\n",
        "\n",
        "print(response.json())"
      ]
    },
    {
      "cell_type": "code",
      "execution_count": null,
      "metadata": {
        "colab": {
          "base_uri": "https://localhost:8080/"
        },
        "id": "00eN3DFu4xPd",
        "outputId": "32b78dea-4470-4ae2-846e-21a833639d8c"
      },
      "outputs": [
        {
          "name": "stdout",
          "output_type": "stream",
          "text": [
            "Requirement already satisfied: dash in /usr/local/lib/python3.10/dist-packages (2.16.1)\n",
            "Requirement already satisfied: requests in /usr/local/lib/python3.10/dist-packages (2.31.0)\n",
            "Requirement already satisfied: Flask<3.1,>=1.0.4 in /usr/local/lib/python3.10/dist-packages (from dash) (2.2.5)\n",
            "Requirement already satisfied: Werkzeug<3.1 in /usr/local/lib/python3.10/dist-packages (from dash) (3.0.2)\n",
            "Requirement already satisfied: plotly>=5.0.0 in /usr/local/lib/python3.10/dist-packages (from dash) (5.15.0)\n",
            "Requirement already satisfied: dash-html-components==2.0.0 in /usr/local/lib/python3.10/dist-packages (from dash) (2.0.0)\n",
            "Requirement already satisfied: dash-core-components==2.0.0 in /usr/local/lib/python3.10/dist-packages (from dash) (2.0.0)\n",
            "Requirement already satisfied: dash-table==5.0.0 in /usr/local/lib/python3.10/dist-packages (from dash) (5.0.0)\n",
            "Requirement already satisfied: importlib-metadata in /usr/local/lib/python3.10/dist-packages (from dash) (7.1.0)\n",
            "Requirement already satisfied: typing-extensions>=4.1.1 in /usr/local/lib/python3.10/dist-packages (from dash) (4.11.0)\n",
            "Requirement already satisfied: retrying in /usr/local/lib/python3.10/dist-packages (from dash) (1.3.4)\n",
            "Requirement already satisfied: nest-asyncio in /usr/local/lib/python3.10/dist-packages (from dash) (1.6.0)\n",
            "Requirement already satisfied: setuptools in /usr/local/lib/python3.10/dist-packages (from dash) (67.7.2)\n",
            "Requirement already satisfied: charset-normalizer<4,>=2 in /usr/local/lib/python3.10/dist-packages (from requests) (3.3.2)\n",
            "Requirement already satisfied: idna<4,>=2.5 in /usr/local/lib/python3.10/dist-packages (from requests) (3.6)\n",
            "Requirement already satisfied: urllib3<3,>=1.21.1 in /usr/local/lib/python3.10/dist-packages (from requests) (2.0.7)\n",
            "Requirement already satisfied: certifi>=2017.4.17 in /usr/local/lib/python3.10/dist-packages (from requests) (2024.2.2)\n",
            "Requirement already satisfied: Jinja2>=3.0 in /usr/local/lib/python3.10/dist-packages (from Flask<3.1,>=1.0.4->dash) (3.1.3)\n",
            "Requirement already satisfied: itsdangerous>=2.0 in /usr/local/lib/python3.10/dist-packages (from Flask<3.1,>=1.0.4->dash) (2.1.2)\n",
            "Requirement already satisfied: click>=8.0 in /usr/local/lib/python3.10/dist-packages (from Flask<3.1,>=1.0.4->dash) (8.1.7)\n",
            "Requirement already satisfied: tenacity>=6.2.0 in /usr/local/lib/python3.10/dist-packages (from plotly>=5.0.0->dash) (8.2.3)\n",
            "Requirement already satisfied: packaging in /usr/local/lib/python3.10/dist-packages (from plotly>=5.0.0->dash) (24.0)\n",
            "Requirement already satisfied: MarkupSafe>=2.1.1 in /usr/local/lib/python3.10/dist-packages (from Werkzeug<3.1->dash) (2.1.5)\n",
            "Requirement already satisfied: zipp>=0.5 in /usr/local/lib/python3.10/dist-packages (from importlib-metadata->dash) (3.18.1)\n",
            "Requirement already satisfied: six>=1.7.0 in /usr/local/lib/python3.10/dist-packages (from retrying->dash) (1.16.0)\n"
          ]
        }
      ],
      "source": [
        "pip install dash requests\n"
      ]
    },
    {
      "cell_type": "code",
      "execution_count": 19,
      "metadata": {
        "colab": {
          "base_uri": "https://localhost:8080/",
          "height": 671
        },
        "id": "wHhO-9RDKEnP",
        "outputId": "50863a97-3bdd-4a49-d2db-0a6aa08126f2"
      },
      "outputs": [
        {
          "output_type": "display_data",
          "data": {
            "text/plain": [
              "<IPython.core.display.Javascript object>"
            ],
            "application/javascript": [
              "(async (port, path, width, height, cache, element) => {\n",
              "    if (!google.colab.kernel.accessAllowed && !cache) {\n",
              "      return;\n",
              "    }\n",
              "    element.appendChild(document.createTextNode(''));\n",
              "    const url = await google.colab.kernel.proxyPort(port, {cache});\n",
              "    const iframe = document.createElement('iframe');\n",
              "    iframe.src = new URL(path, url).toString();\n",
              "    iframe.height = height;\n",
              "    iframe.width = width;\n",
              "    iframe.style.border = 0;\n",
              "    iframe.allow = [\n",
              "        'accelerometer',\n",
              "        'autoplay',\n",
              "        'camera',\n",
              "        'clipboard-read',\n",
              "        'clipboard-write',\n",
              "        'gyroscope',\n",
              "        'magnetometer',\n",
              "        'microphone',\n",
              "        'serial',\n",
              "        'usb',\n",
              "        'xr-spatial-tracking',\n",
              "    ].join('; ');\n",
              "    element.appendChild(iframe);\n",
              "  })(8050, \"/\", \"100%\", 650, false, window.element)"
            ]
          },
          "metadata": {}
        }
      ],
      "source": [
        "import requests\n",
        "import dash\n",
        "import dash_core_components as dcc\n",
        "import dash_html_components as html\n",
        "from dash.dependencies import Input, Output\n",
        "\n",
        "# Fetching the exchange rates data\n",
        "def fetch_exchange_rates():\n",
        "    url = \"https://exchangeratespro.p.rapidapi.com/latest\"\n",
        "    headers = {\n",
        "        \"X-RapidAPI-Key\": \"4b808134d4msh93ba78a1408db9bp16d163jsnd3939bab5190\",\n",
        "        \"X-RapidAPI-Host\": \"exchangeratespro.p.rapidapi.com\"\n",
        "    }\n",
        "    response = requests.get(url, headers=headers, params={\"base\": \"INR\"})\n",
        "    data = response.json()\n",
        "    return data.get('rates', {})\n",
        "\n",
        "# Create a Dash application\n",
        "app = dash.Dash(__name__)\n",
        "\n",
        "# Define the layout of the application\n",
        "app.layout = html.Div([\n",
        "    html.H1(\"Exchange Rates Dashboard\"),\n",
        "    dcc.Dropdown(\n",
        "        id='currency-dropdown',\n",
        "        options=[{'label': k, 'value': k} for k in fetch_exchange_rates().keys()],\n",
        "        value='INR'\n",
        "    ),\n",
        "    html.Div(id='rate-display')\n",
        "])\n",
        "\n",
        "# Callback to update the displayed rate based on the user's dropdown selection\n",
        "@app.callback(\n",
        "    Output('rate-display', 'children'),\n",
        "    [Input('currency-dropdown', 'value')]\n",
        ")\n",
        "def update_rate_display(selected_currency):\n",
        "    rates = fetch_exchange_rates()\n",
        "    return f\"1 INR is equal to {rates.get(selected_currency, 'N/A')} {selected_currency}\"\n",
        "\n",
        "# Run the app\n",
        "if __name__ == '__main__':\n",
        "    app.run_server(debug=True)\n"
      ]
    }
  ],
  "metadata": {
    "colab": {
      "provenance": []
    },
    "kernelspec": {
      "display_name": "Python 3",
      "name": "python3"
    },
    "language_info": {
      "name": "python"
    }
  },
  "nbformat": 4,
  "nbformat_minor": 0
}